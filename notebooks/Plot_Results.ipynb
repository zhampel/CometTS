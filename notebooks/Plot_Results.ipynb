{
 "cells": [
  {
   "cell_type": "code",
   "execution_count": null,
   "metadata": {},
   "outputs": [],
   "source": [
    "#Module for plotting results only!\n",
    "\n",
    "import sys\n",
    "import os\n",
    "import glob\n",
    "import gdal\n",
    "import rasterstats\n",
    "import rasterio\n",
    "from rasterstats import zonal_stats\n",
    "import numpy as np\n",
    "import pandas as pd\n",
    "import geopandas as gpd\n",
    "import fiona\n",
    "from shapely.geometry import shape\n",
    "import shapely.wkt\n",
    "import string\n",
    "import matplotlib.pyplot as plt\n",
    "import seaborn as sns; sns.set(color_codes=True)\n",
    "import datetime\n",
    "from ipywidgets import interact, interactive, fixed, interact_manual\n",
    "from IPython.display import Javascript, display, clear_output\n",
    "import ipywidgets as widgets\n",
    "from tqdm import tqdm_notebook as tqdm\n",
    "import matplotlib.dates as mdates\n",
    "from scipy.signal import gaussian\n",
    "from scipy.ndimage import filters\n",
    "from affine import Affine\n",
    "import CometTS  #See ComeTS.py to edit functions\n",
    "from CometTS import *\n",
    "\n",
    "### Run plotting from CSV output ONLY\n",
    "\n",
    "input_CSV=\".../Multi_studyAreas_FullStats.csv\"\n",
    "\n",
    "def gen_plots(input_csv):\n",
    "    df = pd.read_csv(input_csv)\n",
    "    df=df.sort_values(['date'])\n",
    "    geometry = df['geometry'].map(shapely.wkt.loads)\n",
    "    crs = {'init': 'epsg:2263'}\n",
    "    gdf = gpd.GeoDataFrame(df, crs=crs, geometry=geometry)\n",
    "    gdf['date']=pd.to_datetime(gdf['date'],infer_datetime_format=True)\n",
    "    #run_plot(gdf, y_label=\"NDVI\", title_label= \"NDVI over time - ID: \")\n",
    "    run_plot(gdf)\n",
    "\n",
    "gen_plots(input_CSV)\n",
    "    \n",
    "\n"
   ]
  }
 ],
 "metadata": {
  "kernelspec": {
   "display_name": "Python 2",
   "language": "python",
   "name": "python2"
  },
  "language_info": {
   "codemirror_mode": {
    "name": "ipython",
    "version": 2
   },
   "file_extension": ".py",
   "mimetype": "text/x-python",
   "name": "python",
   "nbconvert_exporter": "python",
   "pygments_lexer": "ipython2",
   "version": "2.7.14"
  }
 },
 "nbformat": 4,
 "nbformat_minor": 2
}
